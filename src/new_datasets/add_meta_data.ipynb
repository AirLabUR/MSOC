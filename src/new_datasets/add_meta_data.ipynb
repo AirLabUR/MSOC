{
 "cells": [
  {
   "cell_type": "code",
   "execution_count": 1,
   "metadata": {},
   "outputs": [],
   "source": [
    "import pandas as pd\n",
    "\n",
    "root = \"/data/kyungbok/FakeAVCeleb_v1.2\"\n",
    "\n",
    "df = pd.read_csv(root + \"/meta_data.csv\")\n",
    "df_E = df[df[\"category\"] == \"B\"]\n",
    "# change the category of the data\n",
    "df_E.loc[:, \"category\"] = \"E\"\n",
    "df_E.loc[:, \"method\"] = \"freevc\"\n",
    "\n",
    "final_df = pd.concat([df, df_E])\n",
    "final_df[final_df[\"category\"] == \"E\"]\n",
    "df_F = df[df[\"category\"] == \"A\"]\n",
    "df_F.loc[:, \"category\"] = \"F\"\n",
    "df_F.loc[:, \"method\"] = \"shifted\"\n",
    "\n",
    "final_df = pd.concat([df, df_F])\n",
    "final_df.to_csv(root + \"/meta_data_added.csv\", index=False)\n"
   ]
  }
 ],
 "metadata": {
  "kernelspec": {
   "display_name": "df",
   "language": "python",
   "name": "python3"
  },
  "language_info": {
   "codemirror_mode": {
    "name": "ipython",
    "version": 3
   },
   "file_extension": ".py",
   "mimetype": "text/x-python",
   "name": "python",
   "nbconvert_exporter": "python",
   "pygments_lexer": "ipython3",
   "version": "3.9.18"
  }
 },
 "nbformat": 4,
 "nbformat_minor": 2
}
