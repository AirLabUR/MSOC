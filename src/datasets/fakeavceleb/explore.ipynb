{
 "cells": [
  {
   "cell_type": "code",
   "execution_count": 1,
   "metadata": {},
   "outputs": [],
   "source": [
    "import pandas as pd\n",
    "\n",
    "file_path = \"/storage/neil/FakeAVCeleb_v1.2/meta_data.csv\"\n",
    "df = pd.read_csv(file_path)\n"
   ]
  },
  {
   "cell_type": "code",
   "execution_count": 75,
   "metadata": {},
   "outputs": [
    {
     "data": {
      "text/plain": [
       "0        FakeAVCeleb/RealVideo-RealAudio/African/men/id...\n",
       "1        FakeAVCeleb/RealVideo-RealAudio/African/men/id...\n",
       "2        FakeAVCeleb/RealVideo-RealAudio/African/men/id...\n",
       "3        FakeAVCeleb/RealVideo-RealAudio/African/men/id...\n",
       "4        FakeAVCeleb/RealVideo-RealAudio/African/men/id...\n",
       "                               ...                        \n",
       "21561    FakeAVCeleb/FakeVideo-FakeAudio/Asian (South)/...\n",
       "21562    FakeAVCeleb/FakeVideo-FakeAudio/Asian (South)/...\n",
       "21563    FakeAVCeleb/FakeVideo-FakeAudio/Asian (South)/...\n",
       "21564    FakeAVCeleb/FakeVideo-FakeAudio/Asian (South)/...\n",
       "21565    FakeAVCeleb/FakeVideo-FakeAudio/Asian (South)/...\n",
       "Name: Unnamed: 9, Length: 21566, dtype: object"
      ]
     },
     "execution_count": 75,
     "metadata": {},
     "output_type": "execute_result"
    }
   ],
   "source": [
    "df[\"Unnamed: 9\"]"
   ]
  },
  {
   "cell_type": "code",
   "execution_count": 76,
   "metadata": {},
   "outputs": [],
   "source": [
    "import os\n",
    "def create_dir(row):\n",
    "    return os.path.join(row[\"Unnamed: 9\"],row[\"path\"])\n",
    "\n",
    "df[\"directory\"] = df.apply(create_dir,axis=1)"
   ]
  },
  {
   "cell_type": "code",
   "execution_count": 77,
   "metadata": {},
   "outputs": [
    {
     "data": {
      "text/plain": [
       "'FakeAVCeleb/RealVideo-RealAudio/African/men/id00076/00109.mp4'"
      ]
     },
     "execution_count": 77,
     "metadata": {},
     "output_type": "execute_result"
    }
   ],
   "source": [
    "df[\"directory\"][0]\n"
   ]
  },
  {
   "cell_type": "markdown",
   "metadata": {},
   "source": []
  },
  {
   "cell_type": "code",
   "execution_count": 2,
   "metadata": {},
   "outputs": [],
   "source": [
    "df = pd.read_csv(\"data.csv\")"
   ]
  },
  {
   "cell_type": "code",
   "execution_count": 6,
   "metadata": {},
   "outputs": [
    {
     "data": {
      "text/plain": [
       "array(['/storage/neil/FakeAVCeleb_preprocessed/RealVideo-RealAudio/African/men/id00076/00109',\n",
       "       '/storage/neil/FakeAVCeleb_preprocessed/RealVideo-RealAudio/African/men/id00166/00010',\n",
       "       '/storage/neil/FakeAVCeleb_preprocessed/RealVideo-RealAudio/African/men/id00173/00118',\n",
       "       ...,\n",
       "       '/storage/neil/FakeAVCeleb_preprocessed/FakeVideo-FakeAudio/Asian (South)/women/id07689/00028_id07008_wavtolip',\n",
       "       '/storage/neil/FakeAVCeleb_preprocessed/FakeVideo-FakeAudio/Asian (South)/women/id07689/00028_id07377_wavtolip',\n",
       "       '/storage/neil/FakeAVCeleb_preprocessed/FakeVideo-FakeAudio/Asian (South)/women/id07689/00028_id07686_wavtolip'],\n",
       "      dtype=object)"
      ]
     },
     "execution_count": 6,
     "metadata": {},
     "output_type": "execute_result"
    }
   ],
   "source": [
    "df[\"preprocessed_directory\"].unique()"
   ]
  },
  {
   "cell_type": "code",
   "execution_count": 69,
   "metadata": {},
   "outputs": [],
   "source": [
    "import cv2\n",
    "\n",
    "\n",
    "def extract_frames(video_path, frames_dir):\n",
    "    # Create a directory to save frames\n",
    "    # os.makedirs(frames_dir, exist_ok=True)\n",
    "\n",
    "    # Read the video\n",
    "\n",
    "    cap = cv2.VideoCapture(video_path)\n",
    "    fps = cap.get(cv2.CAP_PROP_FPS)\n",
    "    print(fps)\n",
    "    frame_count = 0\n",
    "    while cap.isOpened():\n",
    "        ret, frame = cap.read()\n",
    "        if not ret:\n",
    "            print(\"why\")\n",
    "            break\n",
    "        # frame_file = os.path.join(frames_dir, f\"frame_{frame_count}.jpg\")\n",
    "        # cv2.imwrite(frame_file, frame)\n",
    "        frame_count += 1\n",
    "    print(f\"Total frames: {frame_count}\")\n",
    "    cap.release()\n",
    "    return fps"
   ]
  },
  {
   "cell_type": "code",
   "execution_count": 56,
   "metadata": {},
   "outputs": [],
   "source": [
    "import matplotlib.pyplot as plt\n",
    "import torchaudio\n",
    "import torchaudio.transforms as T\n",
    "\n",
    "def plot_mel_spectrogram(mel_spec):\n",
    "    S_DB = torchaudio.transforms.AmplitudeToDB()(mel_spec)\n",
    "    plt.figure(figsize=(10, 4))\n",
    "\n",
    "    plt.imshow(S_DB[0].detach().numpy(),  aspect='auto', origin='lower')\n",
    "    plt.axis('off')  # No axes for a cleaner look\n",
    "\n",
    "    plt.show()\n",
    "    plt.savefig(\"test.png\")\n"
   ]
  },
  {
   "cell_type": "code",
   "execution_count": 57,
   "metadata": {},
   "outputs": [],
   "source": [
    "audio_path = \"/storage/neil/FakeAVCeleb_preprocessed/RealVideo-RealAudio/African/men/id00076/00109/audio.wav\"\n",
    "audio_path = \"/storage/neil/FakeAVCeleb_preprocessed/RealVideo-RealAudio/African/men/id00166/00010/audio.wav\"\n",
    "# audio_path = \"/storage/neil/FakeAVCeleb_preprocessed/FakeVideo-FakeAudio/Asian (South)/women/id07689/00028_id07008_wavtolip/audio.wav\"\n",
    "waveform, sr = torchaudio.load(audio_path)\n",
    "n_fft = 512\n",
    "sample_rate = 16000\n",
    "hop_length = int(sample_rate * 0.01)\n",
    "mel_spectrogram = T.MelSpectrogram(\n",
    "        sample_rate=sample_rate,\n",
    "        n_fft=n_fft,\n",
    "        win_length= int(sample_rate * 0.025),\n",
    "        hop_length=hop_length,\n",
    "        center=False,\n",
    "        n_mels= 80\n",
    ")\n",
    "mel_spec = mel_spectrogram(waveform)\n",
    "plot_mel_spectrogram(mel_spec)"
   ]
  },
  {
   "cell_type": "code",
   "execution_count": 34,
   "metadata": {},
   "outputs": [
    {
     "name": "stdout",
     "output_type": "stream",
     "text": [
      "torch.Size([2, 80, 643])\n"
     ]
    }
   ],
   "source": [
    "import os\n",
    "import matplotlib\n",
    "matplotlib.use('Agg') # No pictures displayed \n",
    "import pylab\n",
    "import librosa\n",
    "import librosa.display\n",
    "import numpy as np\n",
    "cmap = \"hot\"\n",
    "\n"
   ]
  },
  {
   "cell_type": "code",
   "execution_count": 20,
   "metadata": {},
   "outputs": [],
   "source": []
  },
  {
   "cell_type": "code",
   "execution_count": null,
   "metadata": {},
   "outputs": [],
   "source": []
  }
 ],
 "metadata": {
  "kernelspec": {
   "display_name": "df",
   "language": "python",
   "name": "python3"
  },
  "language_info": {
   "codemirror_mode": {
    "name": "ipython",
    "version": 3
   },
   "file_extension": ".py",
   "mimetype": "text/x-python",
   "name": "python",
   "nbconvert_exporter": "python",
   "pygments_lexer": "ipython3",
   "version": "3.9.18"
  }
 },
 "nbformat": 4,
 "nbformat_minor": 2
}
